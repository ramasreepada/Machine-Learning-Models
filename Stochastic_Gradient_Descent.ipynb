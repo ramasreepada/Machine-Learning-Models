{
 "cells": [
  {
   "cell_type": "code",
   "execution_count": 1,
   "metadata": {
    "colab": {},
    "colab_type": "code",
    "collapsed": true,
    "id": "REYPoTJ1Af7u"
   },
   "outputs": [],
   "source": [
    "import warnings\n",
    "warnings.filterwarnings(\"ignore\")\n",
    "from sklearn.datasets import load_boston\n",
    "from random import seed\n",
    "from random import randrange\n",
    "from csv import reader\n",
    "from math import sqrt\n",
    "from sklearn import preprocessing\n",
    "import pandas as pd\n",
    "import numpy as np\n",
    "import matplotlib.pyplot as plt\n",
    "from prettytable import PrettyTable\n",
    "from sklearn.linear_model import SGDRegressor\n",
    "from sklearn import preprocessing\n",
    "from sklearn.metrics import mean_squared_error"
   ]
  },
  {
   "cell_type": "code",
   "execution_count": 2,
   "metadata": {
    "colab": {},
    "colab_type": "code",
    "collapsed": true,
    "id": "NTQ2iH-kAwbo"
   },
   "outputs": [],
   "source": [
    "data_set = pd.DataFrame(load_boston().data)\n",
    "class_labels = pd.DataFrame(load_boston().target)\n"
   ]
  },
  {
   "cell_type": "code",
   "execution_count": 3,
   "metadata": {
    "collapsed": false
   },
   "outputs": [],
   "source": [
    "from sklearn.model_selection import train_test_split\n",
    "train_data,test_data,train_labels,test_labels = train_test_split(data_set,class_labels, test_size=0.30, random_state=13)\n",
    "train_data = pd.DataFrame(train_data)\n",
    "train_labels = pd.DataFrame(train_labels)"
   ]
  },
  {
   "cell_type": "code",
   "execution_count": 4,
   "metadata": {
    "collapsed": false
   },
   "outputs": [
    {
     "data": {
      "text/plain": [
       "(354, 13)"
      ]
     },
     "execution_count": 4,
     "metadata": {},
     "output_type": "execute_result"
    }
   ],
   "source": [
    "train_data.shape"
   ]
  },
  {
   "cell_type": "code",
   "execution_count": 5,
   "metadata": {
    "colab": {},
    "colab_type": "code",
    "collapsed": true,
    "id": "FgUW39s6Be0U"
   },
   "outputs": [],
   "source": [
    "scaler = preprocessing.StandardScaler().fit(train_data)\n",
    "train_data = scaler.transform(train_data)\n",
    "\n",
    "test_data = scaler.transform(test_data)\n"
   ]
  },
  {
   "cell_type": "code",
   "execution_count": 6,
   "metadata": {
    "collapsed": false
   },
   "outputs": [],
   "source": [
    "[rows,columns] = train_data.shape\n",
    "weights = np.random.rand(1,columns)\n",
    "bias = np.random.rand(1)"
   ]
  },
  {
   "cell_type": "code",
   "execution_count": 7,
   "metadata": {
    "collapsed": false
   },
   "outputs": [],
   "source": [
    "prev_error = 1\n",
    "current_error = 0\n",
    "\n",
    "# https://docs.scipy.org/doc/numpy/reference/generated/numpy.random.rand.html\n",
    "# random_instances = np.array(randint(stoch, len(train_data)))\n",
    "r = 0.1\n",
    "# stoch = 100\n",
    "\n",
    "from sklearn.utils import shuffle\n",
    "from random import randint\n",
    "\n",
    "count = 0\n",
    "while(count == 0):\n",
    "    \n",
    "    selected_instances = []\n",
    "    selected_instances_labels = []\n",
    "    \n",
    "    prev_error = current_error\n",
    "    stoch = np.random.randint(low = 100, high=rows,size=1)\n",
    "    random_instances = np.random.randint(low = 0, high=rows,size=stoch)\n",
    "    selected_instances = pd.DataFrame(train_data).iloc[random_instances,:]\n",
    "    selected_instances_labels = train_labels.iloc[random_instances]\n",
    "    \n",
    "    weight_into_instances =  np.array(np.matmul(selected_instances,weights.T))\n",
    "   \n",
    "    current_error = selected_instances_labels - (np.array(list(map(lambda x: x + bias, weight_into_instances))))\n",
    "    \n",
    "    grad_W = (-2/rows)*np.dot(selected_instances.T,current_error)\n",
    "    grad_b = (-2/rows)*sum(current_error)\n",
    "    \n",
    "    weights = weights - r*(grad_W.T)\n",
    "    bias = bias - r*(grad_b)\n",
    "    \n",
    "    r = r/20\n",
    "    \n",
    "    # print(abs(np.mean(abs(current_error))))\n",
    "    \n",
    "    if( np.float( abs(np.mean(abs(current_error)) - np.mean(abs(prev_error))) ) <= 0.0001):\n",
    "        count = 1\n",
    "        "
   ]
  },
  {
   "cell_type": "code",
   "execution_count": 8,
   "metadata": {
    "collapsed": false
   },
   "outputs": [
    {
     "data": {
      "text/plain": [
       "(13, 1)"
      ]
     },
     "execution_count": 8,
     "metadata": {},
     "output_type": "execute_result"
    }
   ],
   "source": [
    "grad_W.shape"
   ]
  },
  {
   "cell_type": "code",
   "execution_count": 9,
   "metadata": {
    "collapsed": true
   },
   "outputs": [],
   "source": [
    "predict_labels_user_def = (np.dot(test_data,weights.T) + bias)\n",
    "\n",
    "rmse_user_def = np.sqrt(np.mean(np.square(test_labels-predict_labels_user_def)))"
   ]
  },
  {
   "cell_type": "code",
   "execution_count": 10,
   "metadata": {
    "colab": {
     "base_uri": "https://localhost:8080/",
     "height": 34
    },
    "colab_type": "code",
    "collapsed": false,
    "executionInfo": {
     "elapsed": 879,
     "status": "ok",
     "timestamp": 1545718892607,
     "user": {
      "displayName": "Applied AI Course",
      "photoUrl": "https://lh5.googleusercontent.com/-9_3A9F-kDXs/AAAAAAAAAAI/AAAAAAAAACw/IprjYvUuoXQ/s64/photo.jpg",
      "userId": "00484516897554883881"
     },
     "user_tz": -330
    },
    "id": "HNu1sXtEBBS2",
    "outputId": "a0c5d3d0-345c-4a34-8ccf-0d9f3d7d23fd"
   },
   "outputs": [],
   "source": [
    "clf = SGDRegressor(alpha=0.5,max_iter=1000)\n",
    "clf.fit(train_data, train_labels)\n",
    "predict_labels_sklearn = pd.DataFrame(clf.predict(test_data))\n",
    "\n",
    "rmse_sklearn = np.sqrt(np.mean(np.square(test_labels-predict_labels_sklearn)))"
   ]
  },
  {
   "cell_type": "code",
   "execution_count": 11,
   "metadata": {
    "collapsed": false
   },
   "outputs": [
    {
     "data": {
      "image/png": "[encoded data removed]",
      "text/plain": [
       "<Figure size 432x288 with 1 Axes>"
      ]
     },
     "metadata": {},
     "output_type": "display_data"
    }
   ],
   "source": [
    "plt.scatter(test_labels, predict_labels_sklearn)\n",
    "plt.title('Predicted vs Actual Test labels on Sklearn SGD')\n",
    "plt.xlabel('actual labels')\n",
    "plt.ylabel('predicted labels')\n",
    "plt.show()"
   ]
  },
  {
   "cell_type": "code",
   "execution_count": 12,
   "metadata": {
    "collapsed": false
   },
   "outputs": [
    {
     "data": {
      "text/plain": [
       "0    23.326929\n",
       "dtype: float64"
      ]
     },
     "execution_count": 12,
     "metadata": {},
     "output_type": "execute_result"
    }
   ],
   "source": [
    "# e = np.squeeze(np.asarray(e))\n",
    "rmse_user_def"
   ]
  },
  {
   "cell_type": "code",
   "execution_count": 13,
   "metadata": {
    "collapsed": false
   },
   "outputs": [
    {
     "data": {
      "image/png": "[encoded data removed]",
      "text/plain": [
       "<Figure size 432x288 with 1 Axes>"
      ]
     },
     "metadata": {},
     "output_type": "display_data"
    }
   ],
   "source": [
    "# https://matplotlib.org/gallery/shapes_and_collections/scatter.html\n",
    "\n",
    "import matplotlib.pyplot as plt\n",
    "\n",
    "plt.scatter(test_labels, predict_labels_user_def)\n",
    "plt.title('Predicted vs Actual Test labels on user-defined SGD')\n",
    "plt.xlabel('actual labels')\n",
    "plt.ylabel('predicted labels')\n",
    "plt.show()"
   ]
  },
  {
   "cell_type": "code",
   "execution_count": 14,
   "metadata": {
    "collapsed": false
   },
   "outputs": [
    {
     "name": "stdout",
     "output_type": "stream",
     "text": [
      "+--------------+--------------+\n",
      "| SGD User Def | SGD Sklearn  |\n",
      "+--------------+--------------+\n",
      "|            0 |            0 |\n",
      "| 0  -0.446449 | 0  -0.652495 |\n",
      "| 1   0.681069 | 1   0.654098 |\n",
      "| 2  -0.045961 | 2  -0.535102 |\n",
      "| 3   0.564955 | 3   0.895802 |\n",
      "| 4  -0.023512 | 4  -0.394832 |\n",
      "| 5   1.089196 | 5   2.350265 |\n",
      "| 6  -0.876233 | 6  -0.244703 |\n",
      "| 7   1.451273 | 7  -1.010560 |\n",
      "| 8  -0.340808 | 8   0.340481 |\n",
      "| 9  -0.625085 | 9  -0.503167 |\n",
      "| 10 -0.123922 | 10 -1.355406 |\n",
      "| 11  1.284835 | 11  0.615134 |\n",
      "| 12 -0.360881 | 12 -2.524633 |\n",
      "+--------------+--------------+\n"
     ]
    }
   ],
   "source": [
    "weights_sgd =pd.DataFrame(clf.coef_)\n",
    "weights = pd.DataFrame(weights).T\n",
    "from prettytable import PrettyTable\n",
    "t = PrettyTable(['SGD User Def', 'SGD Sklearn'])\n",
    "t.add_row([weights,weights_sgd])\n",
    "print(t)"
   ]
  },
  {
   "cell_type": "code",
   "execution_count": 15,
   "metadata": {
    "collapsed": false
   },
   "outputs": [
    {
     "name": "stdout",
     "output_type": "stream",
     "text": [
      "+--------------------+-------------------+\n",
      "|    SGD User Def    |    SGD Sklearn    |\n",
      "+--------------------+-------------------+\n",
      "| 23.326929227541633 | 9.291321658600799 |\n",
      "+--------------------+-------------------+\n"
     ]
    }
   ],
   "source": [
    "from prettytable import PrettyTable\n",
    "t = PrettyTable(['SGD User Def', 'SGD Sklearn'])\n",
    "t.add_row([np.float(rmse_user_def),np.float(rmse_sklearn)])\n",
    "print(t)"
   ]
  }
 ],
 "metadata": {
  "anaconda-cloud": {},
  "colab": {
   "name": "Untitled3.ipynb",
   "provenance": [],
   "version": "0.3.2"
  },
  "kernelspec": {
   "display_name": "Python [default]",
   "language": "python",
   "name": "python3"
  },
  "language_info": {
   "codemirror_mode": {
    "name": "ipython",
    "version": 3
   },
   "file_extension": ".py",
   "mimetype": "text/x-python",
   "name": "python",
   "nbconvert_exporter": "python",
   "pygments_lexer": "ipython3",
   "version": "3.5.5"
  }
 },
 "nbformat": 4,
 "nbformat_minor": 0
}
